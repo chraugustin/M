{
 "cells": [
  {
   "cell_type": "code",
   "execution_count": 1,
   "id": "60a5a1bc",
   "metadata": {},
   "outputs": [],
   "source": [
    "import numpy as np\n",
    "import matplotlib.pyplot as plt\n",
    "import numpy as np\n",
    "import math\n",
    "import sympy as sp\n",
    "from IPython.display import display, Math\n",
    "\n",
    "from uncertainties import ufloat\n",
    "from uncertainties.umath import *\n",
    "\n",
    "class bcolors:\n",
    "    HEADER = '\\033[95m'\n",
    "    OKBLUE = '\\033[94m'\n",
    "    OKCYAN = '\\033[96m'\n",
    "    OKGREEN = '\\033[92m'\n",
    "    WARNING = '\\033[93m'\n",
    "    FAIL = '\\033[91m'\n",
    "    ENDC = '\\033[0m'\n",
    "    BOLD = '\\033[1m'\n",
    "    UNDERLINE = '\\033[4m'"
   ]
  },
  {
   "cell_type": "markdown",
   "id": "e00abe46",
   "metadata": {},
   "source": [
    "# MESSUNSICHERHEITSANALYSE\n",
    "Labor Wärmetechnik (LV 307.027 - SS 2023)"
   ]
  },
  {
   "cell_type": "markdown",
   "id": "0bce6101",
   "metadata": {},
   "source": [
    "Es werden zwei Fälle hinsichtlich ihrer Messunsicherheit verglichen. \n",
    "<br>\n",
    "In beiden Fällen ist die berechnete Größe $\\dot{Q}$ gleich groß.\n",
    "<br>\n",
    "Durch die unterschiedlichen Einflussfaktoren (gemessene Eingangsvariablen) kommt es jedoch zu unterschiedlichen Messunsicherheiten!\n",
    "\n",
    "$\\dot{Q} = \\dot{Q_1} = \\dot{Q_2} = \\dot{m} \\cdot c_{p} \\cdot (t_{ein} - t_{aus})$\n",
    "\n",
    "Fall 1:\n",
    "<br>\n",
    "$\\dot{m}$ = 300 kg/h, $\\Delta T = t_{ein} - t_{aus}$ = 50 - 40 = 10 K, $c_{p}$ = 4,181 kJ/(kg $\\cdot$ K)\n",
    "\n",
    "Fall 2:\n",
    "<br>\n",
    "$\\dot{m}$ = 1500 kg/h, $\\Delta T = t_{ein} - t_{aus}$ = 46 - 44 = 2 K, $c_{p}$ = 4,181 kJ/(kg $\\cdot$ K)"
   ]
  },
  {
   "cell_type": "markdown",
   "id": "6a6d1ca8",
   "metadata": {},
   "source": [
    "Variablen:\n",
    "<br>\n",
    "Massenstrom $\\dot{m}$ in kg/h \n",
    "<br>\n",
    "Eintrittstemperatur $t_{ein}$ in °C\n",
    "<br>\n",
    "Austrittstemperatur $t_{aus}$ in °C\n",
    "<br>\n",
    "spezifische Wärmekapazität von Wasser $c_{p}$ in J/(kg $\\cdot$ K)\n",
    "<br>\n",
    "<br>\n",
    "Modellgleichung:\n",
    "<br>\n",
    "$\\dot{Q} = \\dot{m} \\cdot c_{p} \\cdot (t_{ein} - t_{aus})$ \n",
    "<br>\n",
    "<br>\n",
    "Anmerkung: \n",
    "<br>\n",
    "$\\dot{Q} = |\\dot{Q_1}| = |\\dot{Q_2}|$"
   ]
  },
  {
   "cell_type": "markdown",
   "id": "b6674e27",
   "metadata": {},
   "source": [
    "## Fall 1:"
   ]
  },
  {
   "cell_type": "markdown",
   "id": "cf717c77",
   "metadata": {},
   "source": [
    "Größen für Fall 1"
   ]
  },
  {
   "cell_type": "code",
   "execution_count": 2,
   "id": "6de2f9b5",
   "metadata": {},
   "outputs": [],
   "source": [
    "t_ein_1 = 50 #[°C]\n",
    "t_aus_1 = 40 #[°C]\n",
    "# m_dot_1 = 300 [kg/h]\n",
    "m_dot_1 = 300/3600 #[kg/s]\n",
    "c_p_1 = 4.181*10**3 #[J/(kg*K)]"
   ]
  },
  {
   "cell_type": "markdown",
   "id": "2545eb05",
   "metadata": {},
   "source": [
    "### systematische Messunsicherheit $u_{sys}$\n",
    "z.B. aus Herstellerangabe $\\longrightarrow$ Fehlergrenze $\\pm$a (symmetrische)"
   ]
  },
  {
   "cell_type": "markdown",
   "id": "c271dd9a",
   "metadata": {},
   "source": [
    "Fehlergrenze Temperatursensor: $\\pm$0,15 K\n",
    "<br>\n",
    "Fehlergrenze Massenstrommessgerät: $\\pm$4 kg/h"
   ]
  },
  {
   "cell_type": "markdown",
   "id": "8b357688",
   "metadata": {},
   "source": [
    "Annahme: Rechteckverteilung für systematische Messabweichungen\n",
    "<br>\n",
    "$u_{sys} = \\dfrac{a}{\\sqrt{3}}$"
   ]
  },
  {
   "cell_type": "code",
   "execution_count": 3,
   "id": "81e5caea",
   "metadata": {},
   "outputs": [
    {
     "name": "stdout",
     "output_type": "stream",
     "text": [
      "u_sys_T_1 = 0.087 [K]\n",
      "u_sys_m_dot_1 = 2.31 [kg/h]\n"
     ]
    }
   ],
   "source": [
    "a_T_1 = 0.15 #[K]\n",
    "a_m_dot_1 = 4 #[kg/h]\n",
    "\n",
    "u_sys_T_1 = a_T_1 / (math.sqrt(3)) #[K]\n",
    "u_sys_m_dot_1 = a_m_dot_1 / (math.sqrt(3)) #[kg/h]\n",
    "\n",
    "print('u_sys_T_1 =', round(u_sys_T_1, 3), '[K]')\n",
    "print('u_sys_m_dot_1 =', round(u_sys_m_dot_1, 2), '[kg/h]')"
   ]
  },
  {
   "cell_type": "markdown",
   "id": "793baf25",
   "metadata": {},
   "source": [
    "### zufällige Messunsicherheit $u_{zuf}$\n",
    "z.B. aus Sensorrauschen $\\longrightarrow$ Standardabweichung einer Messreihe "
   ]
  },
  {
   "cell_type": "markdown",
   "id": "53ac9e5c",
   "metadata": {},
   "source": [
    "$u_{zuf} = \\sqrt{\\frac{1}{n-1} \\cdot \\sum_{i=1}^{n}(x_{i}-x_{0})^2}$"
   ]
  },
  {
   "cell_type": "code",
   "execution_count": 4,
   "id": "66d5695e",
   "metadata": {},
   "outputs": [],
   "source": [
    "u_zuf_T_1 = 0.01 #[K]\n",
    "u_zuf_m_dot_1 = 0 #[kg/h]"
   ]
  },
  {
   "cell_type": "markdown",
   "id": "dc736dd5",
   "metadata": {},
   "source": [
    "### Kombination zufälliger und systematischer Messunsicherheiten\n",
    "$u(y) = \\sqrt{(u_{sys})^2 + (u_{zuf})^2}$"
   ]
  },
  {
   "cell_type": "markdown",
   "id": "41b97476",
   "metadata": {},
   "source": [
    "Temperatur-Messunsicherheit:\n",
    "<br>\n",
    "$u(T) = \\sqrt{u_{sys}(T)^2 + u_{zuf}(T)^2}$\n",
    "<br>\n",
    "<br>\n",
    "Massenstrom-Messunsicherheit:\n",
    "<br>\n",
    "$u(\\dot{m}) = \\sqrt{u_{sys}(\\dot{m})^2 + u_{zuf}(\\dot{m})^2}$\n",
    "<br>\n",
    "<br>\n",
    "spezifische Wärmekapazität:\n",
    "<br>\n",
    "Einfluss wurde vernachlässigt"
   ]
  },
  {
   "cell_type": "code",
   "execution_count": 5,
   "id": "d40296f9",
   "metadata": {},
   "outputs": [
    {
     "name": "stdout",
     "output_type": "stream",
     "text": [
      "u_T_1 = ± 0.087 [K]\n",
      "u_m_dot_1 = ± 2.31 [kg/h]\n"
     ]
    }
   ],
   "source": [
    "u_T_1 = math.sqrt((u_sys_T_1)**2 + (u_zuf_T_1)**2)\n",
    "u_m_dot_1 = math.sqrt((u_sys_m_dot_1)**2 + (u_zuf_m_dot_1)**2)\n",
    "\n",
    "print('u_T_1 = ±', round(u_T_1, 3), '[K]')\n",
    "print('u_m_dot_1 = ±', round(u_m_dot_1, 2), '[kg/h]')"
   ]
  },
  {
   "cell_type": "markdown",
   "id": "818007fd",
   "metadata": {},
   "source": [
    "### Größen ± Messunsicherheit\n",
    "\n",
    "Messunsicherheiten $\\longrightarrow$ uncertainties package $\\longrightarrow$ https://pythonhosted.org/uncertainties/"
   ]
  },
  {
   "cell_type": "code",
   "execution_count": 6,
   "id": "af963bdf",
   "metadata": {
    "scrolled": true
   },
   "outputs": [
    {
     "name": "stdout",
     "output_type": "stream",
     "text": [
      "t_ein_err_1 = 50.00+/-0.09 [°C]\n",
      "t_aus_err_1 = 40.00+/-0.09 [°C]\n",
      "m_dot_err_1 = 0.0833+/-0.0006 [kg/s]\n"
     ]
    }
   ],
   "source": [
    "t_ein_err_1 = ufloat(t_ein_1, u_T_1)\n",
    "t_aus_err_1 = ufloat(t_aus_1, u_T_1)\n",
    "\n",
    "m_dot_err_1 = ufloat(m_dot_1, u_m_dot_1/3600)\n",
    "\n",
    "print('t_ein_err_1 =', t_ein_err_1, '[°C]')\n",
    "print('t_aus_err_1 =', t_aus_err_1, '[°C]')\n",
    "\n",
    "print('m_dot_err_1 =', m_dot_err_1, '[kg/s]')"
   ]
  },
  {
   "cell_type": "markdown",
   "id": "37f53d94",
   "metadata": {},
   "source": [
    "### Fortpflanzung der Messunsicherheiten (Gauß'sche Fehlerfortpflanzung)\n",
    "\n",
    "$u(y) = \\sqrt{\\sum_{i=1}^{n}(\\frac{\\partial f}{\\partial x_i})^2 \\cdot u(x_i)^2}$\n",
    "\n",
    "Anmerkung:\n",
    "<br>\n",
    "Die Messwerte $x_i$ müssen voneinander unabhängig (unkorreliert) sein.\n",
    "<br>\n",
    "Annahme: systematischen Anteile sind normalverteilt!"
   ]
  },
  {
   "cell_type": "markdown",
   "id": "10b8cfea",
   "metadata": {},
   "source": [
    "Modellgleichung: $\\dot{Q} = \\dot{m} \\cdot c_{p} \\cdot (t_{ein} - t_{aus})$ $\\longrightarrow$ Partielle Ableitungen $\\longrightarrow$ Berechnung der Messunsicherheit"
   ]
  },
  {
   "cell_type": "code",
   "execution_count": 7,
   "id": "45a8bf23",
   "metadata": {
    "scrolled": true
   },
   "outputs": [
    {
     "name": "stdout",
     "output_type": "stream",
     "text": [
      "Modellgleichung:\n"
     ]
    },
    {
     "data": {
      "text/latex": [
       "$\\displaystyle \\dot{Q} = \\dot{m} \\cdot c_{p} \\cdot (t_{aus} - t_{ein})$"
      ],
      "text/plain": [
       "<IPython.core.display.Math object>"
      ]
     },
     "metadata": {},
     "output_type": "display_data"
    },
    {
     "name": "stdout",
     "output_type": "stream",
     "text": [
      "Partielle Ableitungen:\n"
     ]
    },
    {
     "data": {
      "text/latex": [
       "$\\displaystyle \\frac{\\partial \\dot{Q}}{\\partial \\dot{m}} =c_{p} \\left(t_{aus} - t_{ein}\\right)$"
      ],
      "text/plain": [
       "<IPython.core.display.Math object>"
      ]
     },
     "metadata": {},
     "output_type": "display_data"
    },
    {
     "data": {
      "text/latex": [
       "$\\displaystyle \\frac{\\partial \\dot{Q}}{\\partial t_{ein}} =- c_{p} m_{dot}$"
      ],
      "text/plain": [
       "<IPython.core.display.Math object>"
      ]
     },
     "metadata": {},
     "output_type": "display_data"
    },
    {
     "data": {
      "text/latex": [
       "$\\displaystyle \\frac{\\partial \\dot{Q}}{\\partial t_{aus}} =c_{p} m_{dot}$"
      ],
      "text/plain": [
       "<IPython.core.display.Math object>"
      ]
     },
     "metadata": {},
     "output_type": "display_data"
    }
   ],
   "source": [
    "# nicht notwendig (nur eine Demonstration der Ableitungen)\n",
    "\n",
    "# Definiere die Variablen\n",
    "# c_p = konstant\n",
    "m_dot, c_p, t_ein, t_aus = sp.symbols('m_dot c_p t_ein t_aus')\n",
    "\n",
    "# Definiere die Funktion\n",
    "Q_dot = m_dot * c_p * (t_aus - t_ein)\n",
    "\n",
    "# Berechne die partiellen Ableitungen\n",
    "partial_m_dot = sp.diff(Q_dot, m_dot)\n",
    "partial_t_ein = sp.diff(Q_dot, t_ein)\n",
    "partial_t_aus = sp.diff(Q_dot, t_aus)\n",
    "\n",
    "# Gib die Ergebnisse aus\n",
    "print('Modellgleichung:')\n",
    "display(Math(r'\\dot{Q} = \\dot{m} \\cdot c_{p} \\cdot (t_{aus} - t_{ein})' ))\n",
    "print('Partielle Ableitungen:')\n",
    "display(Math(r'\\frac{\\partial \\dot{Q}}{\\partial \\dot{m}} =' + sp.latex(partial_m_dot)))\n",
    "display(Math(r'\\frac{\\partial \\dot{Q}}{\\partial t_{ein}} =' + sp.latex(partial_t_ein)))\n",
    "display(Math(r'\\frac{\\partial \\dot{Q}}{\\partial t_{aus}} =' + sp.latex(partial_t_aus)))"
   ]
  },
  {
   "cell_type": "code",
   "execution_count": 8,
   "id": "f4511e2f",
   "metadata": {},
   "outputs": [
    {
     "name": "stdout",
     "output_type": "stream",
     "text": [
      "\u001b[1mQ_dot_err_1 = 3484.17+/-50.64 [W] = \u001b[4m3.48+/-0.05 [kW]\u001b[0m\n"
     ]
    }
   ],
   "source": [
    "Q_dot_err_1 = m_dot_err_1 * c_p_1 * (t_ein_err_1 - t_aus_err_1)\n",
    "#print('Q_dot_err_1 =', Q_dot_err_1, '[W]')\n",
    "#print('Q_dot_err_1 = {:.2u}'.format(Q_dot_err_1), '[W] = {:.2u}'.format(Q_dot_err_1*10**(-3)), '[kW]')\n",
    "print('\\033[1m' + 'Q_dot_err_1 = {:.2f}'.format(Q_dot_err_1), '[W] =', \n",
    "      bcolors.UNDERLINE + '{:.2f}'.format(Q_dot_err_1*10**(-3)), '[kW]' + bcolors.ENDC)"
   ]
  },
  {
   "cell_type": "markdown",
   "id": "22d8af1e",
   "metadata": {},
   "source": [
    "## Fall 2:"
   ]
  },
  {
   "cell_type": "markdown",
   "id": "c8b7ba35",
   "metadata": {},
   "source": [
    "Größen für Fall 1"
   ]
  },
  {
   "cell_type": "code",
   "execution_count": 9,
   "id": "2a24e45f",
   "metadata": {},
   "outputs": [],
   "source": [
    "t_ein_2 = 46 #[°C]\n",
    "t_aus_2 = 44 #[°C]\n",
    "# m_dot_2 = 1500 #[kg/h]\n",
    "m_dot_2 = 1500/3600 #[kg/s]\n",
    "c_p_2 = c_p_1"
   ]
  },
  {
   "cell_type": "markdown",
   "id": "4840fdd7",
   "metadata": {},
   "source": [
    "### systematische Messunsicherheit $u_{sys}$\n",
    "\n",
    "Fehlergrenzen gleich wie in Fall 1 $\\longrightarrow$ systematische Messunsicherheiten bleiben gleich"
   ]
  },
  {
   "cell_type": "code",
   "execution_count": 10,
   "id": "37274968",
   "metadata": {},
   "outputs": [
    {
     "name": "stdout",
     "output_type": "stream",
     "text": [
      "u_sys_T_2 = 0.087 [K]\n",
      "u_sys_m_dot_2 = 2.31 [kg/h]\n"
     ]
    }
   ],
   "source": [
    "a_T_2 = a_T_1\n",
    "a_m_dot_2 = a_m_dot_1\n",
    "\n",
    "u_sys_T_2 = a_T_2 / (math.sqrt(3)) #[K]\n",
    "u_sys_m_dot_2 = a_m_dot_2 / (math.sqrt(3)) #[kg/h]\n",
    "\n",
    "print('u_sys_T_2 =', round(u_sys_T_2, 3), '[K]')\n",
    "print('u_sys_m_dot_2 =', round(u_sys_m_dot_2, 2), '[kg/h]')"
   ]
  },
  {
   "cell_type": "markdown",
   "id": "cfb0616b",
   "metadata": {},
   "source": [
    "### zufällige Messunsicherheit $u_{zuf}$\n",
    "\n",
    "zufällige Messunsicherheit gleich wie in Fall 1"
   ]
  },
  {
   "cell_type": "code",
   "execution_count": 11,
   "id": "3fb9e3a8",
   "metadata": {},
   "outputs": [
    {
     "name": "stdout",
     "output_type": "stream",
     "text": [
      "u_zuf_T_2 = u_zuf_T_1 = 0.01 [K]\n",
      "u_zuf_m_dot_2 = u_zuf_m_dot_1 = 0 [kg/h]\n"
     ]
    }
   ],
   "source": [
    "u_zuf_T_2 = u_zuf_T_1\n",
    "u_zuf_m_dot_2 = u_zuf_m_dot_1\n",
    "\n",
    "print('u_zuf_T_2 = u_zuf_T_1 =', u_zuf_T_2, '[K]')\n",
    "print('u_zuf_m_dot_2 = u_zuf_m_dot_1 =', u_zuf_m_dot_2, '[kg/h]')"
   ]
  },
  {
   "cell_type": "markdown",
   "id": "e33fa20e",
   "metadata": {},
   "source": [
    "### Kombination zufälliger und systematischer Messunsicherheiten\n",
    "\n",
    "systematische und zufällige Messunsicherheiten gleich wie in Fall 1 $\\longrightarrow$ Kombination der Messunsicherheiten gleich wie in Fall 1"
   ]
  },
  {
   "cell_type": "code",
   "execution_count": 12,
   "id": "e869425f",
   "metadata": {},
   "outputs": [
    {
     "name": "stdout",
     "output_type": "stream",
     "text": [
      "u_T_2 = u_T_1 = ± 0.087 [K]\n",
      "u_m_dot_2 = u_m_dot_1 = ± 2.31 [kg/h]\n"
     ]
    }
   ],
   "source": [
    "u_T_2 = math.sqrt((u_sys_T_2)**2 + (u_zuf_T_2)**2)\n",
    "u_m_dot_2 = math.sqrt((u_sys_m_dot_2)**2 + (u_zuf_m_dot_2)**2)\n",
    "\n",
    "print('u_T_2 = u_T_1 = ±', round(u_T_2, 3), '[K]')\n",
    "print('u_m_dot_2 = u_m_dot_1 = ±', round(u_m_dot_2, 2), '[kg/h]')"
   ]
  },
  {
   "cell_type": "markdown",
   "id": "430abb8e",
   "metadata": {},
   "source": [
    "### Größen ± Messunsicherheit"
   ]
  },
  {
   "cell_type": "code",
   "execution_count": 13,
   "id": "ed9afb85",
   "metadata": {},
   "outputs": [
    {
     "name": "stdout",
     "output_type": "stream",
     "text": [
      "t_ein_err_2 = 46.00+/-0.09 [°C]\n",
      "t_aus_err_2 = 44.00+/-0.09 [°C]\n",
      "m_dot_err_2 = 0.4167+/-0.0006 [kg/s]\n"
     ]
    }
   ],
   "source": [
    "t_ein_err_2 = ufloat(t_ein_2, u_T_2)\n",
    "t_aus_err_2 = ufloat(t_aus_2, u_T_2)\n",
    "\n",
    "m_dot_err_2 = ufloat(m_dot_2, u_m_dot_2/3600)\n",
    "\n",
    "print('t_ein_err_2 =', t_ein_err_2, '[°C]')\n",
    "print('t_aus_err_2 =', t_aus_err_2, '[°C]')\n",
    "\n",
    "print('m_dot_err_2 =', m_dot_err_2, '[kg/s]')"
   ]
  },
  {
   "cell_type": "markdown",
   "id": "e6d50834",
   "metadata": {},
   "source": [
    "### Fortpflanzung der Messunsicherheiten (Gauß'sche Fehlerfortpflanzung)"
   ]
  },
  {
   "cell_type": "code",
   "execution_count": 14,
   "id": "2b500fd1",
   "metadata": {},
   "outputs": [
    {
     "name": "stdout",
     "output_type": "stream",
     "text": [
      "\u001b[1mQ_dot_err_1 = 3484.17+/-214.85 [W] = \u001b[4m3.48+/-0.21 [kW]\u001b[0m\n"
     ]
    }
   ],
   "source": [
    "Q_dot_err_2 = m_dot_err_2 * c_p_2 * (t_ein_err_2 - t_aus_err_2)\n",
    "#print('Q_dot_err_2 =', Q_dot_err_2, '[W]')\n",
    "#print('Q_dot_err_2 = {:.2u}'.format(Q_dot_err_2), '[W] = {:.2u}'.format(Q_dot_err_2*10**(-3)), '[kW]')\n",
    "print('\\033[1m' + 'Q_dot_err_1 = {:.2f}'.format(Q_dot_err_2), '[W] =', \n",
    "      bcolors.UNDERLINE + '{:.2f}'.format(Q_dot_err_2*10**(-3)), '[kW]' + bcolors.ENDC)"
   ]
  },
  {
   "cell_type": "markdown",
   "id": "c93e904a",
   "metadata": {},
   "source": [
    "# Vergleich von Fall 1 und Fall 2"
   ]
  },
  {
   "cell_type": "code",
   "execution_count": 15,
   "id": "d7daf1b3",
   "metadata": {},
   "outputs": [],
   "source": [
    "Q_dot = m_dot_2 * c_p_2 * (t_ein_2 - t_aus_2) # = m_dot_1 * c_p_1 * (t_ein_1 - t_aus_1)\n",
    "\n",
    "Fall_1 = Q_dot_err_1*10**(-3)\n",
    "Fall_2 = Q_dot_err_2*10**(-3)"
   ]
  },
  {
   "cell_type": "code",
   "execution_count": 16,
   "id": "a078e5fc",
   "metadata": {
    "scrolled": false
   },
   "outputs": [
    {
     "data": {
      "image/png": "[encoded data removed]",
      "text/plain": [
       "<Figure size 640x480 with 1 Axes>"
      ]
     },
     "metadata": {},
     "output_type": "display_data"
    },
    {
     "name": "stdout",
     "output_type": "stream",
     "text": [
      "Fall 1 : 3.48+/-0.05 [kW]\n",
      "Fall 2 : 3.48+/-0.21 [kW]\n"
     ]
    }
   ],
   "source": [
    "fig, ax = plt.subplots()\n",
    "\n",
    "x = ['Fall 1', 'Fall 2']\n",
    "y = [np.round(Q_dot*10**(-3), 2), np.round(Q_dot*10**(-3), 2)] \n",
    "\n",
    "ax.bar(x, y, width=0.3)\n",
    "ax.set_ylabel('Leistung [kW]')\n",
    "ax.set_title('Messunsicherheit')\n",
    "ax.yaxis.grid(True)\n",
    "\n",
    "error = [Q_dot_err_1.std_dev*10**(-3), Q_dot_err_2.std_dev*10**(-3)]\n",
    "\n",
    "plt.errorbar(x, y, yerr=error, fmt='.', color='red', ecolor='red', alpha=1, capsize=5)\n",
    "\n",
    "plt.show()\n",
    "\n",
    "print('Fall 1 :', Fall_1, '[kW]')\n",
    "print('Fall 2 :', Fall_2, '[kW]')"
   ]
  },
  {
   "cell_type": "markdown",
   "id": "aead00e6",
   "metadata": {},
   "source": [
    "# SENSITIVITÄTSANALYSE"
   ]
  },
  {
   "cell_type": "markdown",
   "id": "f334e910",
   "metadata": {},
   "source": [
    "# Methode 1 $\\longrightarrow$ SensitivityAnalyzer\n",
    "https://nickderobertis.github.io/sensitivity/auto_examples/sensitivity_analysis.html"
   ]
  },
  {
   "cell_type": "code",
   "execution_count": 17,
   "id": "2ab50238",
   "metadata": {},
   "outputs": [],
   "source": [
    "from sensitivity import SensitivityAnalyzer"
   ]
  },
  {
   "cell_type": "markdown",
   "id": "43cb9be8",
   "metadata": {},
   "source": [
    "## Modellgleichung und Eingangsvariablen definieren"
   ]
  },
  {
   "cell_type": "markdown",
   "id": "ca25dd24",
   "metadata": {},
   "source": [
    "untere Grenze $\\longrightarrow$ Werte von Fall 1  \n",
    "obere Grenze $\\longrightarrow$ Werte von Fall 2\n",
    "\n",
    "Anmerkung: $c_{p_1} = c_{p_2}$"
   ]
  },
  {
   "cell_type": "code",
   "execution_count": 18,
   "id": "39d3525b",
   "metadata": {},
   "outputs": [
    {
     "name": "stderr",
     "output_type": "stream",
     "text": [
      "100%|██████████████████████████████████████████████████████████████████████████████████| 8/8 [00:00<00:00, 1113.21it/s]\n"
     ]
    }
   ],
   "source": [
    "def my_model(m_dot, t_ein, t_aus):\n",
    "    \n",
    "    return m_dot * c_p_1 * (t_ein - t_aus)\n",
    "\n",
    "sensitivity_dict = {\n",
    "    'm_dot': [m_dot_1, m_dot_2], # [Fall 1, Fall 2] in kg/h\n",
    "    't_ein': [t_ein_1, t_ein_2], # [Fall 1, Fall 2] in °C\n",
    "    't_aus': [t_aus_1, t_aus_2] # [Fall 1, Fall 2] in °C\n",
    "}\n",
    "\n",
    "sa = SensitivityAnalyzer(sensitivity_dict, my_model)"
   ]
  },
  {
   "cell_type": "markdown",
   "id": "17ecbc72",
   "metadata": {},
   "source": [
    "## Variation der Eingangsvariablen (Index i: 0...7)"
   ]
  },
  {
   "cell_type": "markdown",
   "id": "c718cf7a",
   "metadata": {},
   "source": [
    "m_dot_i in kg/s\n",
    "<br>\n",
    "t_ein_i und t_aus_i in °C\n",
    "<br>\n",
    "$c_p$ bleibt konstant und wird nicht variiert\n",
    "<br>\n",
    "Result = Q_dot_i in W\n",
    "\n",
    "Anmerkung: Q_dot_0 bzw. Q_dot_7 $\\longrightarrow$ Eingangsgrößen von Fall 1 und Fall 2 (= gleicher Wert)"
   ]
  },
  {
   "cell_type": "code",
   "execution_count": 19,
   "id": "29327a7f",
   "metadata": {
    "scrolled": false
   },
   "outputs": [
    {
     "data": {
      "text/html": [
       "<style type=\"text/css\">\n",
       "#T_d0dd7_row0_col3, #T_d0dd7_row7_col3 {\n",
       "  background-color: #4bb05c;\n",
       "  color: #f1f1f1;\n",
       "}\n",
       "#T_d0dd7_row1_col3, #T_d0dd7_row2_col3 {\n",
       "  background-color: #15904c;\n",
       "  color: #f1f1f1;\n",
       "}\n",
       "#T_d0dd7_row3_col3 {\n",
       "  background-color: #006837;\n",
       "  color: #f1f1f1;\n",
       "}\n",
       "#T_d0dd7_row4_col3 {\n",
       "  background-color: #a50026;\n",
       "  color: #f1f1f1;\n",
       "}\n",
       "#T_d0dd7_row5_col3, #T_d0dd7_row6_col3 {\n",
       "  background-color: #fee593;\n",
       "  color: #000000;\n",
       "}\n",
       "</style>\n",
       "<table id=\"T_d0dd7\">\n",
       "  <thead>\n",
       "    <tr>\n",
       "      <th class=\"blank level0\" >&nbsp;</th>\n",
       "      <th id=\"T_d0dd7_level0_col0\" class=\"col_heading level0 col0\" >m_dot</th>\n",
       "      <th id=\"T_d0dd7_level0_col1\" class=\"col_heading level0 col1\" >t_ein</th>\n",
       "      <th id=\"T_d0dd7_level0_col2\" class=\"col_heading level0 col2\" >t_aus</th>\n",
       "      <th id=\"T_d0dd7_level0_col3\" class=\"col_heading level0 col3\" >Result</th>\n",
       "    </tr>\n",
       "  </thead>\n",
       "  <tbody>\n",
       "    <tr>\n",
       "      <th id=\"T_d0dd7_level0_row0\" class=\"row_heading level0 row0\" >0</th>\n",
       "      <td id=\"T_d0dd7_row0_col0\" class=\"data row0 col0\" >0.083333</td>\n",
       "      <td id=\"T_d0dd7_row0_col1\" class=\"data row0 col1\" >50</td>\n",
       "      <td id=\"T_d0dd7_row0_col2\" class=\"data row0 col2\" >40</td>\n",
       "      <td id=\"T_d0dd7_row0_col3\" class=\"data row0 col3\" >3484.166667</td>\n",
       "    </tr>\n",
       "    <tr>\n",
       "      <th id=\"T_d0dd7_level0_row1\" class=\"row_heading level0 row1\" >1</th>\n",
       "      <td id=\"T_d0dd7_row1_col0\" class=\"data row1 col0\" >0.083333</td>\n",
       "      <td id=\"T_d0dd7_row1_col1\" class=\"data row1 col1\" >50</td>\n",
       "      <td id=\"T_d0dd7_row1_col2\" class=\"data row1 col2\" >44</td>\n",
       "      <td id=\"T_d0dd7_row1_col3\" class=\"data row1 col3\" >2090.500000</td>\n",
       "    </tr>\n",
       "    <tr>\n",
       "      <th id=\"T_d0dd7_level0_row2\" class=\"row_heading level0 row2\" >2</th>\n",
       "      <td id=\"T_d0dd7_row2_col0\" class=\"data row2 col0\" >0.083333</td>\n",
       "      <td id=\"T_d0dd7_row2_col1\" class=\"data row2 col1\" >46</td>\n",
       "      <td id=\"T_d0dd7_row2_col2\" class=\"data row2 col2\" >40</td>\n",
       "      <td id=\"T_d0dd7_row2_col3\" class=\"data row2 col3\" >2090.500000</td>\n",
       "    </tr>\n",
       "    <tr>\n",
       "      <th id=\"T_d0dd7_level0_row3\" class=\"row_heading level0 row3\" >3</th>\n",
       "      <td id=\"T_d0dd7_row3_col0\" class=\"data row3 col0\" >0.083333</td>\n",
       "      <td id=\"T_d0dd7_row3_col1\" class=\"data row3 col1\" >46</td>\n",
       "      <td id=\"T_d0dd7_row3_col2\" class=\"data row3 col2\" >44</td>\n",
       "      <td id=\"T_d0dd7_row3_col3\" class=\"data row3 col3\" >696.833333</td>\n",
       "    </tr>\n",
       "    <tr>\n",
       "      <th id=\"T_d0dd7_level0_row4\" class=\"row_heading level0 row4\" >4</th>\n",
       "      <td id=\"T_d0dd7_row4_col0\" class=\"data row4 col0\" >0.416667</td>\n",
       "      <td id=\"T_d0dd7_row4_col1\" class=\"data row4 col1\" >50</td>\n",
       "      <td id=\"T_d0dd7_row4_col2\" class=\"data row4 col2\" >40</td>\n",
       "      <td id=\"T_d0dd7_row4_col3\" class=\"data row4 col3\" >17420.833333</td>\n",
       "    </tr>\n",
       "    <tr>\n",
       "      <th id=\"T_d0dd7_level0_row5\" class=\"row_heading level0 row5\" >5</th>\n",
       "      <td id=\"T_d0dd7_row5_col0\" class=\"data row5 col0\" >0.416667</td>\n",
       "      <td id=\"T_d0dd7_row5_col1\" class=\"data row5 col1\" >50</td>\n",
       "      <td id=\"T_d0dd7_row5_col2\" class=\"data row5 col2\" >44</td>\n",
       "      <td id=\"T_d0dd7_row5_col3\" class=\"data row5 col3\" >10452.500000</td>\n",
       "    </tr>\n",
       "    <tr>\n",
       "      <th id=\"T_d0dd7_level0_row6\" class=\"row_heading level0 row6\" >6</th>\n",
       "      <td id=\"T_d0dd7_row6_col0\" class=\"data row6 col0\" >0.416667</td>\n",
       "      <td id=\"T_d0dd7_row6_col1\" class=\"data row6 col1\" >46</td>\n",
       "      <td id=\"T_d0dd7_row6_col2\" class=\"data row6 col2\" >40</td>\n",
       "      <td id=\"T_d0dd7_row6_col3\" class=\"data row6 col3\" >10452.500000</td>\n",
       "    </tr>\n",
       "    <tr>\n",
       "      <th id=\"T_d0dd7_level0_row7\" class=\"row_heading level0 row7\" >7</th>\n",
       "      <td id=\"T_d0dd7_row7_col0\" class=\"data row7 col0\" >0.416667</td>\n",
       "      <td id=\"T_d0dd7_row7_col1\" class=\"data row7 col1\" >46</td>\n",
       "      <td id=\"T_d0dd7_row7_col2\" class=\"data row7 col2\" >44</td>\n",
       "      <td id=\"T_d0dd7_row7_col3\" class=\"data row7 col3\" >3484.166667</td>\n",
       "    </tr>\n",
       "  </tbody>\n",
       "</table>\n"
      ],
      "text/plain": [
       "<pandas.io.formats.style.Styler at 0x241ac010820>"
      ]
     },
     "execution_count": 19,
     "metadata": {},
     "output_type": "execute_result"
    }
   ],
   "source": [
    "sa.df.style.background_gradient(subset='Result', cmap='RdYlGn_r')"
   ]
  },
  {
   "cell_type": "markdown",
   "id": "f984c2f1",
   "metadata": {},
   "source": [
    "# Vergleich der einzelnen Eingangsvariablen miteinander"
   ]
  },
  {
   "cell_type": "markdown",
   "id": "111b787a",
   "metadata": {},
   "source": [
    "(1) m_dot und t_ein\n",
    "<br>\n",
    "(2) m_dot und t_aus\n",
    "<br>\n",
    "(3) t_ein und t_aus\n",
    "\n",
    "Rot $\\longrightarrow$ großer Einfluss\n",
    "<br>\n",
    "Grün $\\longrightarrow$ kleiner Einfluss"
   ]
  },
  {
   "cell_type": "code",
   "execution_count": 20,
   "id": "6944ed31",
   "metadata": {},
   "outputs": [
    {
     "name": "stderr",
     "output_type": "stream",
     "text": [
      "100%|███████████████████████████████████████████████████████████████████████████████████| 8/8 [00:00<00:00, 998.32it/s]\n"
     ]
    },
    {
     "data": {
      "text/html": [
       "<h2>Result by m_dot vs. t_ein</h2>"
      ],
      "text/plain": [
       "<IPython.core.display.HTML object>"
      ]
     },
     "metadata": {},
     "output_type": "display_data"
    },
    {
     "data": {
      "text/html": [
       "<style type=\"text/css\">\n",
       "#T_39052_row0_col0 {\n",
       "  background-color: #006837;\n",
       "  color: #f1f1f1;\n",
       "}\n",
       "#T_39052_row0_col1 {\n",
       "  background-color: #219c52;\n",
       "  color: #f1f1f1;\n",
       "}\n",
       "#T_39052_row1_col0 {\n",
       "  background-color: #e9f6a1;\n",
       "  color: #000000;\n",
       "}\n",
       "#T_39052_row1_col1 {\n",
       "  background-color: #a50026;\n",
       "  color: #f1f1f1;\n",
       "}\n",
       "</style>\n",
       "<table id=\"T_39052\">\n",
       "  <caption>Result - m_dot vs. t_ein</caption>\n",
       "  <thead>\n",
       "    <tr>\n",
       "      <th class=\"blank level0\" >&nbsp;</th>\n",
       "      <th id=\"T_39052_level0_col0\" class=\"col_heading level0 col0\" >46</th>\n",
       "      <th id=\"T_39052_level0_col1\" class=\"col_heading level0 col1\" >50</th>\n",
       "    </tr>\n",
       "    <tr>\n",
       "      <th class=\"index_name level0\" >m_dot</th>\n",
       "      <th class=\"blank col0\" >&nbsp;</th>\n",
       "      <th class=\"blank col1\" >&nbsp;</th>\n",
       "    </tr>\n",
       "  </thead>\n",
       "  <tbody>\n",
       "    <tr>\n",
       "      <th id=\"T_39052_level0_row0\" class=\"row_heading level0 row0\" >0.083333</th>\n",
       "      <td id=\"T_39052_row0_col0\" class=\"data row0 col0\" >1393.67</td>\n",
       "      <td id=\"T_39052_row0_col1\" class=\"data row0 col1\" >2787.33</td>\n",
       "    </tr>\n",
       "    <tr>\n",
       "      <th id=\"T_39052_level0_row1\" class=\"row_heading level0 row1\" >0.416667</th>\n",
       "      <td id=\"T_39052_row1_col0\" class=\"data row1 col0\" >6968.33</td>\n",
       "      <td id=\"T_39052_row1_col1\" class=\"data row1 col1\" >13936.67</td>\n",
       "    </tr>\n",
       "  </tbody>\n",
       "</table>\n"
      ],
      "text/plain": [
       "<IPython.core.display.HTML object>"
      ]
     },
     "metadata": {},
     "output_type": "display_data"
    },
    {
     "data": {
      "text/html": [
       "<h2>Result by m_dot vs. t_aus</h2>"
      ],
      "text/plain": [
       "<IPython.core.display.HTML object>"
      ]
     },
     "metadata": {},
     "output_type": "display_data"
    },
    {
     "data": {
      "text/html": [
       "<style type=\"text/css\">\n",
       "#T_133b8_row0_col0 {\n",
       "  background-color: #219c52;\n",
       "  color: #f1f1f1;\n",
       "}\n",
       "#T_133b8_row0_col1 {\n",
       "  background-color: #006837;\n",
       "  color: #f1f1f1;\n",
       "}\n",
       "#T_133b8_row1_col0 {\n",
       "  background-color: #a50026;\n",
       "  color: #f1f1f1;\n",
       "}\n",
       "#T_133b8_row1_col1 {\n",
       "  background-color: #e9f6a1;\n",
       "  color: #000000;\n",
       "}\n",
       "</style>\n",
       "<table id=\"T_133b8\">\n",
       "  <caption>Result - m_dot vs. t_aus</caption>\n",
       "  <thead>\n",
       "    <tr>\n",
       "      <th class=\"blank level0\" >&nbsp;</th>\n",
       "      <th id=\"T_133b8_level0_col0\" class=\"col_heading level0 col0\" >40</th>\n",
       "      <th id=\"T_133b8_level0_col1\" class=\"col_heading level0 col1\" >44</th>\n",
       "    </tr>\n",
       "    <tr>\n",
       "      <th class=\"index_name level0\" >m_dot</th>\n",
       "      <th class=\"blank col0\" >&nbsp;</th>\n",
       "      <th class=\"blank col1\" >&nbsp;</th>\n",
       "    </tr>\n",
       "  </thead>\n",
       "  <tbody>\n",
       "    <tr>\n",
       "      <th id=\"T_133b8_level0_row0\" class=\"row_heading level0 row0\" >0.083333</th>\n",
       "      <td id=\"T_133b8_row0_col0\" class=\"data row0 col0\" >2787.33</td>\n",
       "      <td id=\"T_133b8_row0_col1\" class=\"data row0 col1\" >1393.67</td>\n",
       "    </tr>\n",
       "    <tr>\n",
       "      <th id=\"T_133b8_level0_row1\" class=\"row_heading level0 row1\" >0.416667</th>\n",
       "      <td id=\"T_133b8_row1_col0\" class=\"data row1 col0\" >13936.67</td>\n",
       "      <td id=\"T_133b8_row1_col1\" class=\"data row1 col1\" >6968.33</td>\n",
       "    </tr>\n",
       "  </tbody>\n",
       "</table>\n"
      ],
      "text/plain": [
       "<IPython.core.display.HTML object>"
      ]
     },
     "metadata": {},
     "output_type": "display_data"
    },
    {
     "data": {
      "text/html": [
       "<h2>Result by t_ein vs. t_aus</h2>"
      ],
      "text/plain": [
       "<IPython.core.display.HTML object>"
      ]
     },
     "metadata": {},
     "output_type": "display_data"
    },
    {
     "data": {
      "text/html": [
       "<style type=\"text/css\">\n",
       "#T_01b60_row0_col0, #T_01b60_row1_col1 {\n",
       "  background-color: #fffebe;\n",
       "  color: #000000;\n",
       "}\n",
       "#T_01b60_row0_col1 {\n",
       "  background-color: #006837;\n",
       "  color: #f1f1f1;\n",
       "}\n",
       "#T_01b60_row1_col0 {\n",
       "  background-color: #a50026;\n",
       "  color: #f1f1f1;\n",
       "}\n",
       "</style>\n",
       "<table id=\"T_01b60\">\n",
       "  <caption>Result - t_ein vs. t_aus</caption>\n",
       "  <thead>\n",
       "    <tr>\n",
       "      <th class=\"blank level0\" >&nbsp;</th>\n",
       "      <th id=\"T_01b60_level0_col0\" class=\"col_heading level0 col0\" >40</th>\n",
       "      <th id=\"T_01b60_level0_col1\" class=\"col_heading level0 col1\" >44</th>\n",
       "    </tr>\n",
       "    <tr>\n",
       "      <th class=\"index_name level0\" >t_ein</th>\n",
       "      <th class=\"blank col0\" >&nbsp;</th>\n",
       "      <th class=\"blank col1\" >&nbsp;</th>\n",
       "    </tr>\n",
       "  </thead>\n",
       "  <tbody>\n",
       "    <tr>\n",
       "      <th id=\"T_01b60_level0_row0\" class=\"row_heading level0 row0\" >46</th>\n",
       "      <td id=\"T_01b60_row0_col0\" class=\"data row0 col0\" >6271.50</td>\n",
       "      <td id=\"T_01b60_row0_col1\" class=\"data row0 col1\" >2090.50</td>\n",
       "    </tr>\n",
       "    <tr>\n",
       "      <th id=\"T_01b60_level0_row1\" class=\"row_heading level0 row1\" >50</th>\n",
       "      <td id=\"T_01b60_row1_col0\" class=\"data row1 col0\" >10452.50</td>\n",
       "      <td id=\"T_01b60_row1_col1\" class=\"data row1 col1\" >6271.50</td>\n",
       "    </tr>\n",
       "  </tbody>\n",
       "</table>\n"
      ],
      "text/plain": [
       "<IPython.core.display.HTML object>"
      ]
     },
     "metadata": {},
     "output_type": "display_data"
    },
    {
     "data": {
      "image/png": "[encoded data removed]",
      "text/plain": [
       "<Figure size 1500x400 with 6 Axes>"
      ]
     },
     "metadata": {},
     "output_type": "display_data"
    }
   ],
   "source": [
    "def Q_dot(m_dot, t_ein, t_aus):\n",
    "    return m_dot * c_p_1 * (t_ein - t_aus)\n",
    "\n",
    "sensitivity_dict = {\n",
    "    'm_dot': [m_dot_1, m_dot_2], # [Fall 1, Fall 2] in kg/s\n",
    "    't_ein': [t_ein_1, t_ein_2], # [Fall 1, Fall 2] in °C\n",
    "    't_aus': [t_aus_1, t_aus_2] # [Fall 1, Fall 2] in °C\n",
    "}\n",
    "\n",
    "sa = SensitivityAnalyzer(sensitivity_dict, Q_dot, grid_size=3, reverse_colors=True)\n",
    "\n",
    "plot = sa.plot()\n",
    "\n",
    "styled_dict = sa.styled_dfs(num_fmt='{:.2f}')"
   ]
  },
  {
   "cell_type": "markdown",
   "id": "14575a1b",
   "metadata": {},
   "source": [
    "# Methode 2  $\\longrightarrow$ SALib\n",
    "https://salib.readthedocs.io/en/latest/index.html\n",
    "\n",
    "https://www.youtube.com/watch?v=gkR_lz5OptU&ab_channel=PyData"
   ]
  },
  {
   "cell_type": "code",
   "execution_count": 21,
   "id": "c815786b",
   "metadata": {},
   "outputs": [],
   "source": [
    "import SALib\n",
    "import pandas as pd\n",
    "\n",
    "from SALib.sample import morris as sample_morris\n",
    "from SALib.analyze import morris as analyze_morris\n",
    "from SALib.plotting.morris import horizontal_bar_plot"
   ]
  },
  {
   "cell_type": "code",
   "execution_count": 22,
   "id": "c2677c7d",
   "metadata": {
    "scrolled": true
   },
   "outputs": [
    {
     "name": "stdout",
     "output_type": "stream",
     "text": [
      "\n",
      "  Parameter            μ            σ           μ*      95% CI\n",
      "0     t_ein  4106.671111  2086.685182  4106.671111  372.457000\n",
      "1     t_aus -4143.835556  2070.913596  4143.835556  416.330330\n",
      "2     m_dot  8622.151111  3213.329417  8622.151111  627.184257\n"
     ]
    }
   ],
   "source": [
    "# Fall 1\n",
    "t_ein_1 = 50 #[°C]\n",
    "t_aus_1 = 40 #[°C]\n",
    "m_dot_1 = 300/3600 #[kg/s]\n",
    "\n",
    "# Fall 2\n",
    "t_ein_2 = 46 #[°C]\n",
    "t_aus_2 = 44 #[°C]\n",
    "m_dot_2 = 1500/3600 #[kg/s]\n",
    "\n",
    "c_p = 4.181*10**3 #[J/(kg*K)]\n",
    "\n",
    "\n",
    "# Eingangvariablen mit oberer und unterer Grenze\n",
    "parametric_dict = {\n",
    "    'num_vars': 3,\n",
    "    'names': ['t_ein', 't_aus', 'm_dot'],\n",
    "    'bounds': [[t_ein_2, t_ein_1],\n",
    "               [t_aus_1, t_aus_2],\n",
    "               [m_dot_1, m_dot_2]]\n",
    "}\n",
    "\n",
    "# ??? Generate samples using Morris method ???\n",
    "num_trajectories = 100\n",
    "num_levels = 4\n",
    "model_input = sample_morris.sample(parametric_dict, num_trajectories, num_levels)\n",
    "\n",
    "def model(params):\n",
    "    t_ein, t_aus, m_dot = params\n",
    "    # Modell implementieren\n",
    "    result = m_dot * c_p * (t_ein - t_aus)\n",
    "    return result\n",
    "\n",
    "model_output = np.array([model(params) for params in model_input])\n",
    "\n",
    "# ??? Perform Morris analysis ???\n",
    "Si = analyze_morris.analyze(parametric_dict, model_input, model_output) # , print_to_console=True)\n",
    "\n",
    "# Print the Morris sensitivity indices\n",
    "#print(\"mu:\", Si['mu'])\n",
    "#print(\"sigma:\", Si['sigma'])\n",
    "#print(\"mu_star:\", Si['mu_star'])\n",
    "#print(\"mu_star_conf:\", Si['mu_star_conf'])\n",
    "\n",
    "print()\n",
    "\n",
    "# DataFrame mit griechischen Buchstaben\n",
    "df_results = pd.DataFrame({\n",
    "    'Parameter': parametric_dict['names'],\n",
    "    'μ': Si['mu'],\n",
    "    'σ': Si['sigma'],\n",
    "    'μ*': Si['mu_star'],\n",
    "    '95% CI': Si['mu_star_conf']\n",
    "})\n",
    "\n",
    "print(df_results)"
   ]
  },
  {
   "cell_type": "markdown",
   "id": "7fc1e5c6",
   "metadata": {},
   "source": [
    "## Parameter $\\mu$, $\\sigma$, $\\mu ^\\ast$ und 95% CI $\\longrightarrow$ Bedeutung \n",
    "### Hier sind grundlegende Erklärungen für die Sensitivitätsindizes:"
   ]
  },
  {
   "cell_type": "markdown",
   "id": "5f1f9f55",
   "metadata": {},
   "source": [
    "(1) $\\sigma$ (Sigma - Total Sensitivity Index):\n",
    "<br>\n",
    "$\\bullet$ Beschreibt die Gesamtvarianz der Modellausgabe, die durch eine bestimmte Eingangsvariable verursacht wird.\n",
    "<br>\n",
    "$\\bullet$ Hohe Werte von $\\sigma$ deuten darauf hin, dass die Eingangsvariable einen erheblichen Einfluss auf die Modellausgabe hat.\n",
    "\n",
    "(2) $\\mu$ (Elementary Effect):\n",
    "<br>\n",
    "$\\bullet$ Der durchschnittliche Beitrag einer einzelnen Eingangsvariable zur Varianz der Modellausgabe.\n",
    "<br>\n",
    "$\\bullet$ Gibt an, wie stark die Modellantwort auf kleine Änderungen der Eingangsvariable reagiert.\n",
    "<br>\n",
    "$\\bullet$ Niedrige $\\mu$-Werte zeigen an, dass die Eingangsvariable einen geringen Einfluss hat.\n",
    "\n",
    "(3) $\\mu ^\\ast$ (Normalized Elementary Effect):\n",
    "<br>\n",
    "$\\bullet$ Der durchschnittliche Beitrag einer einzelnen Eingangsvariable zur Varianz der Modellausgabe, normiert auf die Gesamtvarianz ($\\sigma$).\n",
    "<br>\n",
    "$\\bullet$ Gibt den prozentualen Anteil der Varianz an, der auf die jeweilige Eingangsvariable zurückzuführen ist.\n",
    "<br>\n",
    "$\\bullet$ Niedrige $\\mu ^\\ast$-Werte zeigen an, dass die Eingangsvariable einen geringen relativen Beitrag hat.\n",
    "\n",
    "(4) 95% Confidence Interval (CI) für $\\mu ^\\ast$:\n",
    "<br>\n",
    "$\\bullet$ Gibt den Bereich an, in dem der wahre Wert des $\\mu ^\\ast$-Parameters mit 95% Wahrscheinlichkeit liegt.\n",
    "<br>\n",
    "$\\bullet$ Ein schmaleres Intervall deutet auf eine genauere Schätzung hin.\n",
    "\n",
    "#### In der Regel sollte darauf geachtet werden, wie groß die einzelnen Effekte ($\\mu$) im Vergleich zur Gesamtvarianz ($\\sigma$) sind. Ein hoher $\\mu ^\\ast$-Wert einer Eingangsvariable deutet darauf hin, dass diese Variable einen signifikanten relativen Beitrag zur Unsicherheit der Modellausgabe leistet."
   ]
  },
  {
   "cell_type": "code",
   "execution_count": 23,
   "id": "8aa74a78",
   "metadata": {
    "scrolled": false
   },
   "outputs": [
    {
     "data": {
      "image/png": "[encoded data removed]",
      "text/plain": [
       "<Figure size 1200x800 with 1 Axes>"
      ]
     },
     "metadata": {},
     "output_type": "display_data"
    }
   ],
   "source": [
    "# Plotting all sensitivity indices and confidence intervals\n",
    "fig, ax = plt.subplots(figsize=(12, 8))\n",
    "width = 0.25\n",
    "\n",
    "# Extracting and plotting mu\n",
    "sobol_indices_mu = Si['mu']\n",
    "ax.bar(np.arange(len(sobol_indices_mu)) - width, sobol_indices_mu, label='μ', alpha=0.1, width=width)\n",
    "\n",
    "# Extracting and plotting mu_star\n",
    "sobol_indices_mu_star = Si['mu_star']\n",
    "ax.bar(np.arange(len(sobol_indices_mu_star)), sobol_indices_mu_star, label='μ*', color='blue', width=width)\n",
    "\n",
    "# Extracting and plotting sigma\n",
    "sobol_indices_sigma = Si['sigma']\n",
    "ax.bar(np.arange(len(sobol_indices_sigma)) + width, sobol_indices_sigma, label='σ', color='red', width=width, alpha=1)\n",
    "\n",
    "# Extracting and plotting mu_star_conf\n",
    "sobol_indices_mu_star_conf = Si['mu_star_conf']\n",
    "ax.errorbar(\n",
    "    np.arange(len(sobol_indices_mu_star_conf)),\n",
    "    sobol_indices_mu_star,\n",
    "    yerr=sobol_indices_mu_star_conf,\n",
    "    fmt='o',\n",
    "    color='black',\n",
    "    label='95% CI',\n",
    "    alpha=1\n",
    ")\n",
    "\n",
    "ax.set_xticks(np.arange(len(parametric_dict['names'])))\n",
    "ax.set_xticklabels(parametric_dict['names'])\n",
    "ax.set_ylabel('Sensitivity Indices')\n",
    "ax.legend(loc='upper left')\n",
    "\n",
    "plt.show()"
   ]
  },
  {
   "cell_type": "code",
   "execution_count": 24,
   "id": "7f0795aa",
   "metadata": {
    "scrolled": false
   },
   "outputs": [
    {
     "data": {
      "image/png": "[encoded data removed]",
      "text/plain": [
       "<Figure size 1000x600 with 1 Axes>"
      ]
     },
     "metadata": {},
     "output_type": "display_data"
    }
   ],
   "source": [
    "sobol_indices = Si['sigma']\n",
    "\n",
    "fig, ax = plt.subplots(figsize=(10, 6))\n",
    "ax.bar(range(len(sobol_indices)), sobol_indices)\n",
    "ax.set_xticks(range(len(sobol_indices)))\n",
    "ax.set_xticklabels(parametric_dict['names'])\n",
    "ax.set_ylabel('σ')\n",
    "plt.title('Total Sensitivity Index')\n",
    "\n",
    "plt.show()"
   ]
  },
  {
   "cell_type": "code",
   "execution_count": 25,
   "id": "ce6cf1d3",
   "metadata": {},
   "outputs": [
    {
     "data": {
      "image/png": "[encoded data removed]",
      "text/plain": [
       "<Figure size 1000x600 with 1 Axes>"
      ]
     },
     "metadata": {},
     "output_type": "display_data"
    }
   ],
   "source": [
    "fig, ax = plt.subplots(1, 1, figsize=(10, 6))\n",
    "horizontal_bar_plot(ax, Si)\n",
    "plt.title('Normalized Elementary Effect with 95% Confidence Interval')\n",
    "\n",
    "plt.show()"
   ]
  }
 ],
 "metadata": {
  "kernelspec": {
   "display_name": "Python 3 (ipykernel)",
   "language": "python",
   "name": "python3"
  },
  "language_info": {
   "codemirror_mode": {
    "name": "ipython",
    "version": 3
   },
   "file_extension": ".py",
   "mimetype": "text/x-python",
   "name": "python",
   "nbconvert_exporter": "python",
   "pygments_lexer": "ipython3",
   "version": "3.10.9"
  }
 },
 "nbformat": 4,
 "nbformat_minor": 5
}
